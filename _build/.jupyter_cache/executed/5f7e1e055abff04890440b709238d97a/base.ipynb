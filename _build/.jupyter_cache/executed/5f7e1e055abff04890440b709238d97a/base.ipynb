{
 "cells": [
  {
   "cell_type": "code",
   "execution_count": 1,
   "metadata": {},
   "outputs": [
    {
     "name": "stdout",
     "output_type": "stream",
     "text": [
      "i am learning gis programming\n"
     ]
    }
   ],
   "source": [
    "mytext= \"I AM LeaRNING GIS PRogRAmming\"\n",
    "print(mytext.lower())"
   ]
  },
  {
   "cell_type": "code",
   "execution_count": 2,
   "metadata": {},
   "outputs": [
    {
     "name": "stdout",
     "output_type": "stream",
     "text": [
      " I AM LEARNING GIS PROGRAMMING\n"
     ]
    }
   ],
   "source": [
    "mytext = \" I am learning GIS Programming\"\n",
    "print(mytext.upper())"
   ]
  },
  {
   "cell_type": "code",
   "execution_count": 3,
   "metadata": {},
   "outputs": [
    {
     "name": "stdout",
     "output_type": "stream",
     "text": [
      " I Am Learning Gis Programming\n"
     ]
    }
   ],
   "source": [
    "mytext = \" I am learning GIS Programming\"\n",
    "print(mytext.title())"
   ]
  },
  {
   "cell_type": "code",
   "execution_count": 4,
   "metadata": {},
   "outputs": [
    {
     "data": {
      "text/plain": [
       "11"
      ]
     },
     "execution_count": 4,
     "metadata": {},
     "output_type": "execute_result"
    }
   ],
   "source": [
    "mystring = \"Geographic Information Systems\"\n",
    "mystring.find(\"Info\")"
   ]
  },
  {
   "cell_type": "code",
   "execution_count": 5,
   "metadata": {},
   "outputs": [
    {
     "data": {
      "text/plain": [
       "'Geographic Information Systems'"
      ]
     },
     "execution_count": 5,
     "metadata": {},
     "output_type": "execute_result"
    }
   ],
   "source": [
    "list_gis = [\"Geographic\",\"Information\",\"Systems\"]\n",
    "string_gis = \" \"\n",
    "string_gis.join(list_gis)"
   ]
  },
  {
   "cell_type": "code",
   "execution_count": 6,
   "metadata": {},
   "outputs": [
    {
     "name": "stdout",
     "output_type": "stream",
     "text": [
      "['I', 'enjoy', 'GIS', 'Programming']\n"
     ]
    }
   ],
   "source": [
    "mystring = \"I enjoy GIS Programming\"\n",
    "mylist = mystring.split(\" \") #notice we used space hear but it could be anything. You can split from anywhere you like\n",
    "print(mylist)"
   ]
  },
  {
   "cell_type": "code",
   "execution_count": 7,
   "metadata": {},
   "outputs": [
    {
     "name": "stdout",
     "output_type": "stream",
     "text": [
      "Commenting scripts is g\n",
      "mmenting scripts is good\n"
     ]
    }
   ],
   "source": [
    "mypath = \"Commenting scripts is good\"\n",
    "print (mypath.rstrip(\"Cdo\"))\n",
    "print (mypath.lstrip(\"Cdo\"))"
   ]
  },
  {
   "cell_type": "code",
   "execution_count": 8,
   "metadata": {},
   "outputs": [
    {
     "data": {
      "text/plain": [
       "'I am reading my ASCII file here'"
      ]
     },
     "execution_count": 8,
     "metadata": {},
     "output_type": "execute_result"
    }
   ],
   "source": [
    "myfile = \"   I am reading my ASCII file here\"\n",
    "myfile.strip()"
   ]
  },
  {
   "cell_type": "code",
   "execution_count": 9,
   "metadata": {},
   "outputs": [
    {
     "data": {
      "text/plain": [
       "'GIS Programming'"
      ]
     },
     "execution_count": 9,
     "metadata": {},
     "output_type": "execute_result"
    }
   ],
   "source": [
    "mytopic = \"GIS Scripting\"\n",
    "mytopic.replace(\"Scripting\",\"Programming\")"
   ]
  },
  {
   "cell_type": "code",
   "execution_count": 10,
   "metadata": {},
   "outputs": [
    {
     "name": "stdout",
     "output_type": "stream",
     "text": [
      " It was hard to predict the spatial spread of the CoViD-19 pandemic in year 2020\n"
     ]
    }
   ],
   "source": [
    "#Casting\n",
    "year =2020\n",
    "print ( \" It was hard to predict the spatial spread of the CoViD-19 pandemic in year \"+str(year))"
   ]
  },
  {
   "cell_type": "code",
   "execution_count": 11,
   "metadata": {},
   "outputs": [
    {
     "name": "stdout",
     "output_type": "stream",
     "text": [
      "It was hard to predict the spatial spread of the CoViD-19 pandemic in year 2020\n"
     ]
    }
   ],
   "source": [
    "year =2020\n",
    "print ( \"It was hard to predict the spatial spread of the CoViD-19 pandemic in year {0}\".format(year))"
   ]
  },
  {
   "cell_type": "code",
   "execution_count": 12,
   "metadata": {},
   "outputs": [
    {
     "name": "stdout",
     "output_type": "stream",
     "text": [
      "Seda's student number is 12345\n"
     ]
    }
   ],
   "source": [
    "studentname = \"Seda\"\n",
    "studentnumber = 12345\n",
    "print(\"{0}'s student number is {1}\".format(studentname,studentnumber))"
   ]
  },
  {
   "cell_type": "code",
   "execution_count": 13,
   "metadata": {},
   "outputs": [
    {
     "name": "stdout",
     "output_type": "stream",
     "text": [
      "Seda's student number is 12345\n"
     ]
    }
   ],
   "source": [
    "studentname = \"Seda\"\n",
    "studentnumber = 12345\n",
    "print(\"%s's student number is %i\" %(studentname,studentnumber))"
   ]
  },
  {
   "cell_type": "code",
   "execution_count": 14,
   "metadata": {},
   "outputs": [
    {
     "name": "stdout",
     "output_type": "stream",
     "text": [
      "Seda's student number is 12345\n"
     ]
    }
   ],
   "source": [
    "studentname = \"Seda\"\n",
    "studentnumber = \"12345\"\n",
    "print(f\"{studentname}'s student number is {studentnumber}\") # HAVE YOU NOTICED THE f "
   ]
  }
 ],
 "metadata": {
  "kernelspec": {
   "display_name": "Python 3 (ipykernel)",
   "language": "python",
   "name": "python3"
  },
  "language_info": {
   "codemirror_mode": {
    "name": "ipython",
    "version": 3
   },
   "file_extension": ".py",
   "mimetype": "text/x-python",
   "name": "python",
   "nbconvert_exporter": "python",
   "pygments_lexer": "ipython3",
   "version": "3.7.12"
  }
 },
 "nbformat": 4,
 "nbformat_minor": 2
}