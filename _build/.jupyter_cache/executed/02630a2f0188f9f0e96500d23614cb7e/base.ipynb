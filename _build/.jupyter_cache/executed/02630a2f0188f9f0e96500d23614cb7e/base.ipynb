{
 "cells": [
  {
   "cell_type": "code",
   "execution_count": 1,
   "metadata": {
    "slideshow": {
     "slide_type": "-"
    }
   },
   "outputs": [
    {
     "data": {
      "text/plain": [
       "6"
      ]
     },
     "execution_count": 1,
     "metadata": {},
     "output_type": "execute_result"
    }
   ],
   "source": [
    "new_england_states = [\"Rhode Island\", \"Massachusetts\", \"New Hampshire\", \\\n",
    "                      \"Maine\", \"Vermont\", \"Connecticut\"]\n",
    "len(new_england_states)"
   ]
  },
  {
   "cell_type": "code",
   "execution_count": 2,
   "metadata": {
    "slideshow": {
     "slide_type": "-"
    }
   },
   "outputs": [
    {
     "name": "stdout",
     "output_type": "stream",
     "text": [
      "['Connecticut', 'Maine', 'Massachusetts', 'New Hampshire', 'Rhode Island', 'Vermont']\n",
      "['Vermont', 'Rhode Island', 'New Hampshire', 'Massachusetts', 'Maine', 'Connecticut']\n"
     ]
    }
   ],
   "source": [
    "new_england_states.sort()\n",
    "print(new_england_states)\n",
    "new_england_states.reverse()\n",
    "print(new_england_states)"
   ]
  },
  {
   "cell_type": "code",
   "execution_count": 3,
   "metadata": {
    "slideshow": {
     "slide_type": "-"
    }
   },
   "outputs": [
    {
     "name": "stdout",
     "output_type": "stream",
     "text": [
      "['Vermont', 'Rhode Island', 'New Hampshire', 'Massachusetts', 'Maine', 'Connecticut']\n"
     ]
    },
    {
     "data": {
      "text/plain": [
       "'New Hampshire'"
      ]
     },
     "execution_count": 3,
     "metadata": {},
     "output_type": "execute_result"
    }
   ],
   "source": [
    "print(new_england_states)\n",
    "new_england_states[2]"
   ]
  },
  {
   "cell_type": "code",
   "execution_count": 4,
   "metadata": {
    "slideshow": {
     "slide_type": "-"
    }
   },
   "outputs": [
    {
     "data": {
      "text/plain": [
       "'Connecticut'"
      ]
     },
     "execution_count": 4,
     "metadata": {},
     "output_type": "execute_result"
    }
   ],
   "source": [
    "new_england_states[-1]\n"
   ]
  },
  {
   "cell_type": "code",
   "execution_count": 5,
   "metadata": {
    "slideshow": {
     "slide_type": "-"
    }
   },
   "outputs": [
    {
     "name": "stdout",
     "output_type": "stream",
     "text": [
      "['Vermont', 'Rhode Island', 'New Hampshire', 'Massachusetts', 'Maine', 'Connecticut']\n",
      "['Vermont', 'Rhode Island', 'New Hampshire']\n"
     ]
    }
   ],
   "source": [
    "print (new_england_states)\n",
    "print (new_england_states[0:3])\n",
    "#print (new_england_states [2:])\n",
    "#print (new_england_states [:-2])"
   ]
  },
  {
   "cell_type": "code",
   "execution_count": 6,
   "metadata": {
    "slideshow": {
     "slide_type": "-"
    }
   },
   "outputs": [
    {
     "name": "stdout",
     "output_type": "stream",
     "text": [
      "<class 'str'>\n",
      "Massachusetts\n",
      "<class 'list'>\n",
      "['Massachusetts']\n"
     ]
    }
   ],
   "source": [
    "mass_string = new_england_states[3] #string\n",
    "mass_list = new_england_states[3:4] # list\n",
    "\n",
    "print(type(mass_string))\n",
    "print(mass_string)\n",
    "\n",
    "print(type(mass_list))\n",
    "print(mass_list)"
   ]
  },
  {
   "cell_type": "code",
   "execution_count": 7,
   "metadata": {},
   "outputs": [
    {
     "name": "stdout",
     "output_type": "stream",
     "text": [
      "1\n",
      "[1]\n"
     ]
    }
   ],
   "source": [
    "my_numbers = [1,2,3,4]\n",
    "print(my_numbers[0])\n",
    "print(my_numbers[0:1])"
   ]
  },
  {
   "cell_type": "code",
   "execution_count": 8,
   "metadata": {
    "slideshow": {
     "slide_type": "-"
    }
   },
   "outputs": [
    {
     "name": "stdout",
     "output_type": "stream",
     "text": [
      "['Vermont', 'Rhode Island', 'New Hampshire', 'Massachusetts', 'Maine']\n"
     ]
    }
   ],
   "source": [
    "del new_england_states[-1]\n",
    "print(new_england_states)"
   ]
  },
  {
   "cell_type": "code",
   "execution_count": 9,
   "metadata": {
    "slideshow": {
     "slide_type": "-"
    }
   },
   "outputs": [
    {
     "name": "stdout",
     "output_type": "stream",
     "text": [
      "[]\n",
      "['Counties']\n"
     ]
    }
   ],
   "source": [
    "mylist = []\n",
    "print(mylist)\n",
    "mylist.append(\"Counties\")\n",
    "print(mylist)"
   ]
  },
  {
   "cell_type": "code",
   "execution_count": 10,
   "metadata": {
    "slideshow": {
     "slide_type": "-"
    }
   },
   "outputs": [
    {
     "name": "stdout",
     "output_type": "stream",
     "text": [
      "['h', 't', 't', 'p', 's', ':', '/', '/', 't', 'w', 'i', 't', 't', 'e', 'r', '.', 'c', 'o', 'm', '/', 'G', 'i', 's', 'P', 'r', 'o', 'g', 'r', 'a', 'm', 'm', 'i', 'n', 'g']\n"
     ]
    }
   ],
   "source": [
    "mypath = \"https://twitter.com/GisProgramming\"\n",
    "letter_mypath = list(mypath)\n",
    "print (letter_mypath)"
   ]
  },
  {
   "cell_type": "code",
   "execution_count": 11,
   "metadata": {
    "scrolled": false,
    "slideshow": {
     "slide_type": "-"
    }
   },
   "outputs": [
    {
     "data": {
      "text/plain": [
       "['1', '1', '2', '3', '5', '8']"
      ]
     },
     "execution_count": 11,
     "metadata": {},
     "output_type": "execute_result"
    }
   ],
   "source": [
    "fibonacci_numbers = 112358\n",
    "list(str(fibonacci_numbers))"
   ]
  },
  {
   "cell_type": "code",
   "execution_count": 12,
   "metadata": {
    "slideshow": {
     "slide_type": "-"
    }
   },
   "outputs": [
    {
     "name": "stdout",
     "output_type": "stream",
     "text": [
      "['Amherst', 'Boston', 'Newton']\n"
     ]
    }
   ],
   "source": [
    "cities = [\"Amherst\", \"Boston\"]\n",
    "cities.append(\"Newton\")\n",
    "print (cities)"
   ]
  },
  {
   "cell_type": "code",
   "execution_count": 13,
   "metadata": {
    "slideshow": {
     "slide_type": "-"
    }
   },
   "outputs": [
    {
     "data": {
      "text/plain": [
       "5"
      ]
     },
     "execution_count": 13,
     "metadata": {},
     "output_type": "execute_result"
    }
   ],
   "source": [
    "numbers = [1,2,3,2,2,2,2,4,4,1,1,1,1]\n",
    "numbers.count(1)\n"
   ]
  },
  {
   "cell_type": "code",
   "execution_count": 14,
   "metadata": {
    "slideshow": {
     "slide_type": "-"
    }
   },
   "outputs": [
    {
     "name": "stdout",
     "output_type": "stream",
     "text": [
      "[1, 2, 3, 4, 5, 6, 7, 8, 9, 10]\n"
     ]
    }
   ],
   "source": [
    "list1 = [1,2,3,4]\n",
    "list2 = [5,6,7,8,9,10]\n",
    "\n",
    "list1.extend(list2)\n",
    "print (list1)"
   ]
  },
  {
   "cell_type": "code",
   "execution_count": 15,
   "metadata": {
    "slideshow": {
     "slide_type": "-"
    }
   },
   "outputs": [
    {
     "data": {
      "text/plain": [
       "3"
      ]
     },
     "execution_count": 15,
     "metadata": {},
     "output_type": "execute_result"
    }
   ],
   "source": [
    "new_england_states = [\"Rhode Island\", \"Massachusetts\", \"New Hampshire\", \"Maine\", \"Vermont\", \"Connecticut\"]\n",
    "new_england_states.index(\"Maine\")"
   ]
  },
  {
   "cell_type": "code",
   "execution_count": 16,
   "metadata": {
    "slideshow": {
     "slide_type": "-"
    }
   },
   "outputs": [
    {
     "name": "stdout",
     "output_type": "stream",
     "text": [
      "['Rhode Island', 'Connecticut', 'Massachusetts', 'New Hampshire', 'Maine', 'Vermont']\n"
     ]
    }
   ],
   "source": [
    "new_england_states = [\"Rhode Island\", \"Massachusetts\", \"New Hampshire\", \"Maine\", \"Vermont\"]\n",
    "new_england_states.insert(1,\"Connecticut\")\n",
    "print (new_england_states)"
   ]
  },
  {
   "cell_type": "code",
   "execution_count": 17,
   "metadata": {
    "slideshow": {
     "slide_type": "-"
    }
   },
   "outputs": [
    {
     "data": {
      "text/plain": [
       "'Rhode Island'"
      ]
     },
     "execution_count": 17,
     "metadata": {},
     "output_type": "execute_result"
    }
   ],
   "source": [
    "new_england_states = [\"Rhode Island\", \"Massachusetts\", \"Rhode Island\",\"New Hampshire\", \"Maine\", \"Vermont\"]\n",
    "new_england_states.pop(0)\n"
   ]
  },
  {
   "cell_type": "code",
   "execution_count": 18,
   "metadata": {
    "slideshow": {
     "slide_type": "-"
    }
   },
   "outputs": [],
   "source": [
    "numbers = [0, 1, 1, 2, 3, 5, 8, 13, 21, 34]\n",
    "numbers.remove(3)\n"
   ]
  },
  {
   "cell_type": "code",
   "execution_count": 19,
   "metadata": {},
   "outputs": [
    {
     "name": "stdout",
     "output_type": "stream",
     "text": [
      "range(0, 6)\n",
      "range(2, 6)\n",
      "range(1, 10, 5)\n",
      "1\n",
      "6\n"
     ]
    }
   ],
   "source": [
    "a = range(6)\n",
    "b = range(2,6)\n",
    "c = range(1,10,5)\n",
    "\n",
    "print(a)\n",
    "print(b)\n",
    "print(c)\n",
    "\n",
    "for item in c:\n",
    "    print (item)"
   ]
  },
  {
   "cell_type": "code",
   "execution_count": 20,
   "metadata": {},
   "outputs": [
    {
     "data": {
      "text/plain": [
       "9"
      ]
     },
     "execution_count": 20,
     "metadata": {},
     "output_type": "execute_result"
    }
   ],
   "source": [
    "len(numbers)"
   ]
  },
  {
   "cell_type": "code",
   "execution_count": null,
   "metadata": {},
   "outputs": [],
   "source": []
  }
 ],
 "metadata": {
  "celltoolbar": "Raw Cell Format",
  "kernelspec": {
   "display_name": "Python 3 (ipykernel)",
   "language": "python",
   "name": "python3"
  },
  "language_info": {
   "codemirror_mode": {
    "name": "ipython",
    "version": 3
   },
   "file_extension": ".py",
   "mimetype": "text/x-python",
   "name": "python",
   "nbconvert_exporter": "python",
   "pygments_lexer": "ipython3",
   "version": "3.7.12"
  }
 },
 "nbformat": 4,
 "nbformat_minor": 2
}