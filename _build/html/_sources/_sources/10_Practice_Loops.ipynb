{
 "cells": [
  {
   "cell_type": "markdown",
   "metadata": {
    "rise": {
     "autolaunch": true
    },
    "slideshow": {
     "slide_type": "slide"
    }
   },
   "source": [
    "## HANDS-ON TIME \n",
    "\n"
   ]
  },
  {
   "cell_type": "markdown",
   "metadata": {
    "slideshow": {
     "slide_type": "slide"
    }
   },
   "source": [
    "<center><img src=\"https://i.etsystatic.com/6854467/r/il/87fa53/1383013322/il_570xN.1383013322_31ab.jpg\" width=300 height=300 align=\"center\"/></center>"
   ]
  },
  {
   "cell_type": "markdown",
   "metadata": {
    "slideshow": {
     "slide_type": "fragment"
    }
   },
   "source": [
    "2. Imagine you are in a _Python_ restaurant which serves menu as a list. And, you are a hungry caterpillar who wants to eat everything! And frankly, you can order your food by print statements. Write a for loop to print the names of the foods that you want to eat. "
   ]
  },
  {
   "cell_type": "code",
   "execution_count": null,
   "metadata": {
    "slideshow": {
     "slide_type": "fragment"
    }
   },
   "outputs": [],
   "source": [
    "menu_pycafe = [\"one ice-cream cone\", \"one pickle\", \"one slice of Swiss cheese\", \"one slice of salami\",\n",
    "               \"one lollipop\", \"one piece of cherry pie\", \"one sausage\", \"one cupcake and one slice of watermelon\"]"
   ]
  },
  {
   "cell_type": "code",
   "execution_count": null,
   "metadata": {
    "tags": [
     "hide-input",
     "hide-output"
    ]
   },
   "outputs": [],
   "source": [
    "for i in menu_pycafe:\n",
    "    print (\"I would like \" +i)\n",
    "len(menu_pycafe)"
   ]
  },
  {
   "cell_type": "markdown",
   "metadata": {
    "slideshow": {
     "slide_type": "slide"
    }
   },
   "source": [
    "<center><img src=\"https://static1.squarespace.com/static/5c62c09c4d546e27dc1016c7/5c71f65a9140b72b900c47e2/5c846bca24a694a6a027ee65/1552182810224/BTTF+In+Concert.jpg?format=500w\" width=300 height=300/></center>"
   ]
  },
  {
   "cell_type": "markdown",
   "metadata": {
    "slideshow": {
     "slide_type": "fragment"
    }
   },
   "source": [
    "3. You have a time machine which will take you from 2020 to 2050, and you would like to write a count-down script so that you will know which year you are in! Use a while loop to count down and don't forget to print each year that you pass, Marty! "
   ]
  },
  {
   "cell_type": "code",
   "execution_count": null,
   "metadata": {
    "slideshow": {
     "slide_type": "fragment"
    },
    "tags": [
     "hide-output",
     "hide-input",
     "output-scroll"
    ]
   },
   "outputs": [],
   "source": [
    "year_traveled = 2020\n",
    "print(\"Starting Year:\"+str(year_traveled))\n",
    "while year_traveled<2050:\n",
    "    print (\"Travel to the Future ->\")\n",
    "    year_traveled = year_traveled +1\n",
    "    print(\"Year:\"+str(year_traveled))\n",
    "else:\n",
    "    print (\"Congrats! You arrived at the Future!\")\n",
    "    print(\"Year:\"+str(year_traveled))\n"
   ]
  },
  {
   "cell_type": "code",
   "execution_count": null,
   "metadata": {
    "tags": [
     "hide-input",
     "hide-output",
     "output-scroll"
    ]
   },
   "outputs": [],
   "source": [
    "years = list(range(2050, 2020,-1))\n",
    "\n",
    "for i in years:\n",
    "    while i > 2019:\n",
    "        print(i)\n",
    "        i = i-1\n"
   ]
  }
 ],
 "metadata": {
  "kernelspec": {
   "display_name": "Python 3 (ipykernel)",
   "language": "python",
   "name": "python3"
  },
  "language_info": {
   "codemirror_mode": {
    "name": "ipython",
    "version": 3
   },
   "file_extension": ".py",
   "mimetype": "text/x-python",
   "name": "python",
   "nbconvert_exporter": "python",
   "pygments_lexer": "ipython3",
   "version": "3.7.12"
  }
 },
 "nbformat": 4,
 "nbformat_minor": 4
}
