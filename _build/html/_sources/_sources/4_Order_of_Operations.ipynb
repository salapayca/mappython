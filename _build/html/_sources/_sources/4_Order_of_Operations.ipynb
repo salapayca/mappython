{
 "cells": [
  {
   "cell_type": "markdown",
   "id": "7638ef9c",
   "metadata": {
    "slideshow": {
     "slide_type": "slide"
    }
   },
   "source": [
    "# Order of Operations\n",
    "![Order_of_operations_table](order_of_operations.png)\n",
    "So, let's try what is going to happen here:"
   ]
  },
  {
   "cell_type": "code",
   "execution_count": 1,
   "id": "7b8268f8",
   "metadata": {
    "slideshow": {
     "slide_type": "slide"
    }
   },
   "outputs": [
    {
     "data": {
      "text/plain": [
       "14.0"
      ]
     },
     "execution_count": 1,
     "metadata": {},
     "output_type": "execute_result"
    }
   ],
   "source": [
    "12/4+2**4-5"
   ]
  },
  {
   "cell_type": "markdown",
   "id": "2c1f55d0",
   "metadata": {
    "slideshow": {
     "slide_type": "slide"
    }
   },
   "source": [
    "You can try more! or check the Medium article<a href=\"https://medium.com/@thoashook/operations-in-python-69bbbef781a4\"> link.\n",
    "    \n",
    "<a href=\"5_List_Universe.ipynb\">Let's move to the next section to learn more!</a>"
   ]
  }
 ],
 "metadata": {
  "celltoolbar": "Slideshow",
  "kernelspec": {
   "display_name": "Python 3 (ipykernel)",
   "language": "python",
   "name": "python3"
  },
  "language_info": {
   "codemirror_mode": {
    "name": "ipython",
    "version": 3
   },
   "file_extension": ".py",
   "mimetype": "text/x-python",
   "name": "python",
   "nbconvert_exporter": "python",
   "pygments_lexer": "ipython3",
   "version": "3.7.12"
  }
 },
 "nbformat": 4,
 "nbformat_minor": 5
}
