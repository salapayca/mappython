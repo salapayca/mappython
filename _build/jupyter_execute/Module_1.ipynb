{
 "cells": [
  {
   "cell_type": "markdown",
   "metadata": {
    "id": "8D6Z9piPang9"
   },
   "source": [
    "# Welcome to Module 1: Spatial Thinking in Decision Making\n",
    "\n",
    "<!-- <div align=\"center\">\n",
    "    <video width=\"500\" height=\"500\"\n",
    "       src=\"tryvideo1.mp4\"  \n",
    "       controls>\n",
    "    </video>\n",
    "</div> -->\n",
    "<video controls style=\"max-width: 80%; height: auto; display: block; margin: auto;\">\n",
    "    <!-- <source src=\"_build/html/_static/tryvideo1.mp4\" type=\"video/mp4\"> -->\n",
    "    <source src=\"/Users/juliensong/Desktop/mappypythonmodules/module1/_build/html/_static/video1.mp4\" type=\"video/mp4\">\n",
    "    <!-- <source src=\"_build/html/_static/tryvideo1.mp4\" type=\"video/mp4\"> -->\n",
    "</video>\n",
    "\n",
    "<!-- <div style=\"display: flex; justify-content: center;\">\n",
    "<div align=\"center\">\n",
    "<div style=\"position: relative; padding-bottom: 56.25%;\">\n",
    "        <video\n",
    "       src=\"testvideo.mp4\"  \n",
    "       controls>\n",
    "    </video>\n",
    "</div> -->\n",
    "\n",
    "<!-- <div style=\"display: flex; justify-content: center;\">\n",
    "    <div style=\"position: relative; width: 70%; height: 0; padding-bottom: 56.25%;\">\n",
    "        <iframe\n",
    "            src=\"testvideo.mp4\"\n",
    "            style=\"position: absolute; top: 0; left: 0; width: 100%; height: 100%;\"\n",
    "            frameborder=\"0\"\n",
    "            allow=\"accelerometer; autoplay; clipboard-write; encrypted-media; gyroscope; picture-in-picture\"\n",
    "            allowfullscreen\n",
    "        ></iframe>\n",
    "</div>\n",
    "</div> -->\n",
    "\n",
    "Some text here?"
   ]
  },
  {
   "cell_type": "markdown",
   "metadata": {
    "id": "sZ53V9mQbC6U"
   },
   "source": [
    "# What is Special about Spatial Thinking in Decision Making?\n",
    "\n",
    "<!-- <img src=\"image1.png\" align=\"right\" width=\"300px\"/> -->\n",
    "<!-- <img src=\"../_static/my_image.png\" style=\"float: right; width: 50%; height: auto; margin-left: 10px;\"> -->\n",
    "<img src=\"/Users/juliensong/Desktop/mappypythonmodules/module1/_build/html/_static/image1.png\" style=\"float: right; width: 40%; height: auto; margin-left: 10px;\">\n",
    "<!-- <img src=\"_build/html/_static/image1.png\" style=\"float: right; width: 40%; height: auto; margin-left: 10px;\"> -->\n",
    "\n",
    "We make decisions all the time—and guess what? Most of them are tied to where something happens. Some choices are simple and short-lived, like deciding, “Where should I grab lunch today?” Sure, it seems trivial—unless you bump into your all-time favorite actor during your meal. In that case, your decision about lunch could become a story you tell for the rest of your life!\n",
    "\n",
    "Other decisions, like figuring out “What’s the most energy-efficient route from home to campus?” have broader implications. They might reduce your carbon footprint, save you money, or even inspire others to make more environmentally conscious choices.\n",
    "<br clear=\"right\"/>\n",
    "Since we’re already making location-based decisions daily, why not learn how to make them more efficient, informed… and dare we say, fun? Let’s dive into the world of spatial thinking and reasoning to level up your decision-making skills."
   ]
  }
 ],
 "metadata": {
  "colab": {
   "provenance": []
  },
  "kernelspec": {
   "display_name": "Python 3",
   "name": "python3"
  },
  "language_info": {
   "codemirror_mode": {
    "name": "ipython",
    "version": 3
   },
   "file_extension": ".py",
   "mimetype": "text/x-python",
   "name": "python",
   "nbconvert_exporter": "python",
   "pygments_lexer": "ipython3",
   "version": "3.7.12"
  }
 },
 "nbformat": 4,
 "nbformat_minor": 0
}