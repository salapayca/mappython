{
 "cells": [
  {
   "cell_type": "markdown",
   "metadata": {
    "rise": {
     "autolaunch": true
    },
    "slideshow": {
     "slide_type": "slide"
    }
   },
   "source": [
    "# Algebra of Strings"
   ]
  },
  {
   "cell_type": "markdown",
   "metadata": {
    "slideshow": {
     "slide_type": "-"
    }
   },
   "source": [
    "Algebra? Strings? It sounds oxymoron, right? Afterall, strings are nothing but characters so how come we do addition, multiplication, substraction or division on them? \n",
    "While using python scripting in our spatial analysis, we will be using a lot of unicode characters. Strings can be any characters (letters, numbers, symbols, and what not) but python will know that they are string when we use ```\" \"``` quotaton marks. "
   ]
  },
  {
   "cell_type": "markdown",
   "metadata": {},
   "source": [
    "## Addition \n",
    "\n",
    "In the below example, we will see how we can combine several strings and print the output. \n",
    "You can joining two strings using ```addition(+)``` operation"
   ]
  },
  {
   "cell_type": "code",
   "execution_count": 2,
   "metadata": {
    "slideshow": {
     "slide_type": "-"
    }
   },
   "outputs": [
    {
     "name": "stdout",
     "output_type": "stream",
     "text": [
      "I love GIS\n"
     ]
    }
   ],
   "source": [
    "a = \"I\"\n",
    "d= \" \"\n",
    "b = \"love\"\n",
    "c = \"GIS\"\n",
    "print(a+d+b+d+c)"
   ]
  },
  {
   "cell_type": "markdown",
   "metadata": {},
   "source": [
    "Notice how the variable ```d``` is holding only empty space as a value. The string addition is referred as **string concatenation**. It might be very useful when you need to add file names to file paths."
   ]
  },
  {
   "cell_type": "markdown",
   "metadata": {
    "slideshow": {
     "slide_type": "subslide"
    }
   },
   "source": [
    "Strings can contain numeric characters as well. However, we should be careful to convert any number to integer before combining them:"
   ]
  },
  {
   "cell_type": "code",
   "execution_count": 3,
   "metadata": {
    "slideshow": {
     "slide_type": "-"
    }
   },
   "outputs": [
    {
     "name": "stdout",
     "output_type": "stream",
     "text": [
      "The temperature is 30 Celcius degrees today!\n"
     ]
    }
   ],
   "source": [
    "temp = \"30\"\n",
    "print ( \"The temperature is \" +temp+ \" Celcius degrees today!\")"
   ]
  },
  {
   "cell_type": "markdown",
   "metadata": {
    "slideshow": {
     "slide_type": "subslide"
    }
   },
   "source": [
    "OK, let's use str() then"
   ]
  },
  {
   "cell_type": "code",
   "execution_count": 4,
   "metadata": {
    "slideshow": {
     "slide_type": "-"
    }
   },
   "outputs": [
    {
     "name": "stdout",
     "output_type": "stream",
     "text": [
      "The temperature is 30 Celcius degrees today!\n",
      "And yes, I like Celcius better than Fahrenheit!\n"
     ]
    }
   ],
   "source": [
    "temp = 30\n",
    "print (\"The temperature is \" + str(temp)+ \" Celcius degrees today!\")\n",
    "print (\"And yes, I like Celcius better than Fahrenheit!\")"
   ]
  },
  {
   "cell_type": "markdown",
   "metadata": {
    "slideshow": {
     "slide_type": "slide"
    }
   },
   "source": [
    "UTF-8 contains 1.1 million different character codes that enable us to any character we want in our prints! Hmm, why not to try to write my surname properly then:)"
   ]
  },
  {
   "cell_type": "code",
   "execution_count": 5,
   "metadata": {
    "slideshow": {
     "slide_type": "-"
    }
   },
   "outputs": [
    {
     "name": "stdout",
     "output_type": "stream",
     "text": [
      "Hello! My name is Seda Şalap Ayça\n",
      "Ş is read as sh sound\n",
      "ç is read as ch sound\n"
     ]
    }
   ],
   "source": [
    "print (\"Hello! My name is Seda \\u015ealap Ay\\u00e7a\")\n",
    "print(\"\\u015e is read as sh sound\")\n",
    "print(\"\\u00e7 is read as ch sound\")\n",
    "\n",
    "#source : http://sercanulucan.com/archive/unicode-utf8/"
   ]
  },
  {
   "cell_type": "markdown",
   "metadata": {},
   "source": [
    "## Multiplication"
   ]
  },
  {
   "cell_type": "markdown",
   "metadata": {
    "slideshow": {
     "slide_type": "-"
    }
   },
   "source": [
    "Addition is not the algebric operation that works on strings. You can also use ```multiplication```! The below code enables you to print a string multiple times:"
   ]
  },
  {
   "cell_type": "code",
   "execution_count": 1,
   "metadata": {
    "slideshow": {
     "slide_type": "-"
    }
   },
   "outputs": [
    {
     "name": "stdout",
     "output_type": "stream",
     "text": [
      "How many times you need to repeat:5\n",
      "Python\n",
      "Python\n",
      "Python\n",
      "Python\n",
      "Python\n",
      "\n"
     ]
    }
   ],
   "source": [
    "n= int(input(\"How many times you need to repeat:\"))\n",
    "my_string = \"Python\\n\"\n",
    "print(my_string*n)"
   ]
  },
  {
   "cell_type": "markdown",
   "metadata": {},
   "source": [
    "(stringlist)=\n",
    "## Subtraction\n",
    "\n",
    "Strings are the stored as list, and therefore have an index positioning system starting from 0 because Python is a zero-based language. Each character is assigned to an index number. \n"
   ]
  },
  {
   "cell_type": "code",
   "execution_count": 3,
   "metadata": {},
   "outputs": [
    {
     "data": {
      "text/plain": [
       "'G'"
      ]
     },
     "execution_count": 3,
     "metadata": {},
     "output_type": "execute_result"
    }
   ],
   "source": [
    "mystring = \"GIS Programming\"\n",
    "mystring[0]"
   ]
  },
  {
   "cell_type": "markdown",
   "metadata": {},
   "source": [
    "You can obtain any character by changing the index value - you are welcome to try by yourself.You can use negative index numbers to start counting from the end. The last item in the list will be returned with an index number -1."
   ]
  },
  {
   "cell_type": "code",
   "execution_count": 4,
   "metadata": {},
   "outputs": [
    {
     "data": {
      "text/plain": [
       "'n'"
      ]
     },
     "execution_count": 4,
     "metadata": {},
     "output_type": "execute_result"
    }
   ],
   "source": [
    "mystring[-2]"
   ]
  },
  {
   "cell_type": "markdown",
   "metadata": {},
   "source": [
    "How about obtaining a slice from our string? You can specify the starting and ending index numbers and you will get the slice that you are interested in :"
   ]
  },
  {
   "cell_type": "code",
   "execution_count": 6,
   "metadata": {},
   "outputs": [
    {
     "data": {
      "text/plain": [
       "'GIS'"
      ]
     },
     "execution_count": 6,
     "metadata": {},
     "output_type": "execute_result"
    }
   ],
   "source": [
    "mystring[0:3] #notice that the second index valued character is not included - it tells python to where to stop!"
   ]
  },
  {
   "cell_type": "markdown",
   "metadata": {},
   "source": [
    "OK, what if you are intested in something from the beginning to a point that you are intested in, or the from a starting point until the end. Let's see how we can achieve that:"
   ]
  },
  {
   "cell_type": "code",
   "execution_count": 7,
   "metadata": {},
   "outputs": [
    {
     "name": "stdout",
     "output_type": "stream",
     "text": [
      "twitter.com/GisProgramming\n",
      "https://twitter.com/\n"
     ]
    }
   ],
   "source": [
    "mypath = \"https://twitter.com/GisProgramming\"\n",
    "print(mypath[8:])\n",
    "print(mypath[:-14])"
   ]
  },
  {
   "cell_type": "markdown",
   "metadata": {},
   "source": [
    "If you have a long string or even a file and you don't want to sit and count every single character, you can simply use ```find()``` which will return the index number that you are looking for:"
   ]
  },
  {
   "cell_type": "code",
   "execution_count": 8,
   "metadata": {},
   "outputs": [
    {
     "data": {
      "text/plain": [
       "20"
      ]
     },
     "execution_count": 8,
     "metadata": {},
     "output_type": "execute_result"
    }
   ],
   "source": [
    "mypath.find(\"Gis\") # if you are not paying attention to the upper or lower case,\n",
    "                   # or there is no value equals to what you are searching for then it will return -1"
   ]
  },
  {
   "cell_type": "markdown",
   "metadata": {},
   "source": [
    "The ```join()``` will help you to join elements of a list:"
   ]
  },
  {
   "cell_type": "code",
   "execution_count": 9,
   "metadata": {},
   "outputs": [
    {
     "data": {
      "text/plain": [
       "'https://twitter.com/GisProgramming'"
      ]
     },
     "execution_count": 9,
     "metadata": {},
     "output_type": "execute_result"
    }
   ],
   "source": [
    "mypath = [\"https://\", \"twitter.com\",\"/\",\"GisProgramming\"]\n",
    "myfullpath =\"\"\n",
    "myfullpath.join(mypath)"
   ]
  },
  {
   "cell_type": "markdown",
   "metadata": {
    "slideshow": {
     "slide_type": "slide"
    }
   },
   "source": [
    "## Division\n",
    "We don't have divide for strings, but we can split them! Let's use ```split``` function in action:"
   ]
  },
  {
   "cell_type": "code",
   "execution_count": 10,
   "metadata": {
    "slideshow": {
     "slide_type": "-"
    }
   },
   "outputs": [
    {
     "name": "stdout",
     "output_type": "stream",
     "text": [
      "['This', 'is', 'a', 'string', 'in', 'Python']\n"
     ]
    }
   ],
   "source": [
    "my_string = \"This is a string in Python\"\n",
    "my_list = my_string.split(' ')\n",
    "print(my_list)"
   ]
  }
 ],
 "metadata": {
  "celltoolbar": "Raw Cell Format",
  "kernelspec": {
   "display_name": "Python 3 (ipykernel)",
   "language": "python",
   "name": "python3"
  },
  "language_info": {
   "codemirror_mode": {
    "name": "ipython",
    "version": 3
   },
   "file_extension": ".py",
   "mimetype": "text/x-python",
   "name": "python",
   "nbconvert_exporter": "python",
   "pygments_lexer": "ipython3",
   "version": "3.7.12"
  }
 },
 "nbformat": 4,
 "nbformat_minor": 2
}
